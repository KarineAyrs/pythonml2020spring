{
 "cells": [
  {
   "cell_type": "markdown",
   "metadata": {},
   "source": [
    "# Простейшие тесты по задачам реализации метода ближайших соседей и линейной регрессии\n",
    "\n",
    "* Если данный тест не пройден, то нет смысла посылать свое решение\n",
    "* Однако его прохождение не означает правильность решения (это необходимое, но не достаточное условие)"
   ]
  },
  {
   "cell_type": "markdown",
   "metadata": {},
   "source": [
    "### Рекомендуем:\n",
    "* добавить код теста ваших моделей в основной ноутбук\n",
    "* тестировать не одну модель, а несколько с разными параметрами"
   ]
  },
  {
   "cell_type": "markdown",
   "metadata": {},
   "source": [
    "## Общая часть"
   ]
  },
  {
   "cell_type": "markdown",
   "metadata": {},
   "source": [
    "Для подключения тестов необходимо включить данные строки в ваш скрипт:"
   ]
  },
  {
   "cell_type": "code",
   "execution_count": 1,
   "metadata": {},
   "outputs": [],
   "source": [
    "from tests import test_regression_model, test_knn_model"
   ]
  },
  {
   "cell_type": "markdown",
   "metadata": {},
   "source": [
    "## О тестировании метода ближайших соседей"
   ]
  },
  {
   "cell_type": "markdown",
   "metadata": {},
   "source": [
    "### Как выглядит тест для методов ближайших соседей"
   ]
  },
  {
   "cell_type": "code",
   "execution_count": 3,
   "metadata": {},
   "outputs": [
    {
     "name": "stdout",
     "output_type": "stream",
     "text": [
      "fit_predict test passed\n",
      "predict_proba test passed\n",
      "score test passed\n",
      "kneighbors test passed\n",
      "accuracy test passed\n",
      "Test passed\n"
     ]
    }
   ],
   "source": [
    "model = #инициализация вашей модели\n",
    "test_knn_model(model)"
   ]
  },
  {
   "cell_type": "markdown",
   "metadata": {},
   "source": [
    "## О тестировании линейной регрессии"
   ]
  },
  {
   "cell_type": "markdown",
   "metadata": {},
   "source": [
    "Вы должны будете создать объект класса Regression и затем передать его на вход функции **test_regression_model()**, которая и произведет минимальное тестирование."
   ]
  },
  {
   "cell_type": "code",
   "execution_count": null,
   "metadata": {},
   "outputs": [],
   "source": [
    "# заполняем все необходимые параметры и создаем наконец объекта класса Regression. В простейшем случае будет так:\n",
    "\n",
    "reg = Regression()\n",
    "\n",
    "test_regression_model(reg, Nfeat=100, Mtrain=150, Mtest=150)"
   ]
  },
  {
   "cell_type": "markdown",
   "metadata": {},
   "source": [
    "Если на выходе Вы видите только одну строку '*TEST REGRESSION MODEL: Your accuracy is ...*', то тривиальный тест пройден.\n",
    "\n",
    "Если на выходе Вы видите '*Your code or parameters are not good even for a linear dependency*', то если Вы уверены в правильности Вашего кода, придется подобрать более оптимальные параметры алгоритма (например, число эпох для обучения методом градиентного спуска).\n",
    "\n",
    "Таже можете поэкспериментировать с разными параметрами, чтобы быть уверенными, что Ваш алгоритм работает с разными размерностями. При этом имейте в виду, что\n",
    "* **Nfeat** - это размерность пространства X\n",
    "* **Mtrain** - это количество примеров для обучения\n",
    "* **Mtest** - это количество примеров для тестирования"
   ]
  },
  {
   "cell_type": "markdown",
   "metadata": {},
   "source": [
    "\n",
    "### Как выглядит тест для [задачи 26](https://github.com/mlcoursemm/pythonml2020spring/blob/master/assignments/Regression/26-Regression_sgd_approx_l1_l2_batch_iter.ipynb) на линейную регрессию"
   ]
  },
  {
   "cell_type": "code",
   "execution_count": null,
   "metadata": {},
   "outputs": [],
   "source": [
    "# TODO: подбираем коэффициенты alpha, delta, l1_coef, l2_coef, n_epoch, batch_size\n",
    "\n",
    "trainiterator = TrainIterator(trainX, trainY, n_epoch, batch_size)\n",
    "loss = Loss(l1_coef, l2_coef)\n",
    "grad = Grad(loss, delta)\n",
    "sgd = SGD(grad, alpha)\n",
    "reg = Regression(sgd, trainiterator, n_epoch, batch_size)\n",
    "\n",
    "test_regression_model(reg, Nfeat=100, Mtrain=150, Mtest=150)"
   ]
  },
  {
   "cell_type": "markdown",
   "metadata": {},
   "source": [
    "На выходе должно быть только 'TEST REGRESSION MODEL: Your accuracy is ...' и ничего больше."
   ]
  }
 ],
 "metadata": {
  "kernelspec": {
   "display_name": "Python 3",
   "language": "python",
   "name": "python3"
  },
  "language_info": {
   "codemirror_mode": {
    "name": "ipython",
    "version": 3
   },
   "file_extension": ".py",
   "mimetype": "text/x-python",
   "name": "python",
   "nbconvert_exporter": "python",
   "pygments_lexer": "ipython3",
   "version": "3.7.2"
  }
 },
 "nbformat": 4,
 "nbformat_minor": 2
}
