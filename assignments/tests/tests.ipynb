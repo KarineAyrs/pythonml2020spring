{
 "cells": [
  {
   "cell_type": "markdown",
   "metadata": {},
   "source": [
    "### Простейший тест метода ближайших соседей\n",
    "\n",
    "* Если данный тест не пройден, то нет смысла посылать свое решение\n",
    "* Однако его прохождение не означает правильность решения"
   ]
  },
  {
   "cell_type": "markdown",
   "metadata": {},
   "source": [
    "Рекомендуем:\n",
    "* добавить код теста ваших моделей в основной ноутбук\n",
    "* тестировать не одну модель, а несколько с разными параметрами"
   ]
  },
  {
   "cell_type": "code",
   "execution_count": 1,
   "metadata": {},
   "outputs": [],
   "source": [
    "from tests import test_regression_model, test_knn_model"
   ]
  },
  {
   "cell_type": "markdown",
   "metadata": {},
   "source": [
    "### Как выглядит тест для методов ближайших соседей"
   ]
  },
  {
   "cell_type": "code",
   "execution_count": 3,
   "metadata": {},
   "outputs": [
    {
     "name": "stdout",
     "output_type": "stream",
     "text": [
      "fit_predict test passed\n",
      "predict_proba test passed\n",
      "score test passed\n",
      "kneighbors test passed\n",
      "accuracy test passed\n",
      "Test passed\n"
     ]
    }
   ],
   "source": [
    "model = #инициализация вашей модели\n",
    "test_knn_model(model)"
   ]
  },
  {
   "cell_type": "markdown",
   "metadata": {},
   "source": [
    "\n",
    "### Как выглядит тест для [задачи 26](https://github.com/mlcoursemm/pythonml2020spring/blob/master/assignments/Regression/26-Regression_sgd_approx_l1_l2_batch_iter.ipynb) на линейную регрессию"
   ]
  },
  {
   "cell_type": "code",
   "execution_count": null,
   "metadata": {},
   "outputs": [],
   "source": [
    "# TODO: подбираем коэффициенты alpha, delta, l1_coef, l2_coef, n_epoch, batch_size\n",
    "\n",
    "trainiterator = TrainIterator(trainX, trainY, n_epoch, batch_size)\n",
    "loss = Loss(l1_coef, l2_coef)\n",
    "grad = Grad(loss, delta)\n",
    "sgd = SGD(grad, alpha)\n",
    "reg = Regression(sgd, trainiterator, n_epoch, batch_size)\n",
    "\n",
    "test_regression_model(reg)"
   ]
  }
 ],
 "metadata": {
  "kernelspec": {
   "display_name": "Python 3",
   "language": "python",
   "name": "python3"
  },
  "language_info": {
   "codemirror_mode": {
    "name": "ipython",
    "version": 3
   },
   "file_extension": ".py",
   "mimetype": "text/x-python",
   "name": "python",
   "nbconvert_exporter": "python",
   "pygments_lexer": "ipython3",
   "version": "3.7.3"
  }
 },
 "nbformat": 4,
 "nbformat_minor": 2
}
